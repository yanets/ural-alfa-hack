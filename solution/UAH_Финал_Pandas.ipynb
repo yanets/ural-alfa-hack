{
 "cells": [
  {
   "cell_type": "markdown",
   "id": "186e7fee",
   "metadata": {},
   "source": [
    "# Оптимизация инкассаций"
   ]
  },
  {
   "cell_type": "markdown",
   "id": "f76e7fe3",
   "metadata": {},
   "source": [
    "## Загрузка данных и библиотек"
   ]
  },
  {
   "cell_type": "code",
   "execution_count": 1,
   "id": "6c71506d",
   "metadata": {
    "ExecuteTime": {
     "end_time": "2023-11-29T22:49:50.560422Z",
     "start_time": "2023-11-29T22:49:50.173420Z"
    }
   },
   "outputs": [],
   "source": [
    "import pandas as pd\n",
    "from itertools import combinations"
   ]
  },
  {
   "cell_type": "code",
   "execution_count": 2,
   "id": "b70ca617",
   "metadata": {
    "ExecuteTime": {
     "end_time": "2023-11-29T22:49:50.590884Z",
     "start_time": "2023-11-29T22:49:50.561458Z"
    }
   },
   "outputs": [],
   "source": [
    "# загружаем данные по времени работы АТМ и стоимости инкассации\n",
    "df_atm_info = pd.read_csv(\"atm_info.csv\", sep = ';')\n",
    "df_atm_info['worktime_split'] = df_atm_info['worktime_split'].apply(eval)"
   ]
  },
  {
   "cell_type": "code",
   "execution_count": 3,
   "id": "68d3aca4",
   "metadata": {
    "ExecuteTime": {
     "end_time": "2023-11-29T22:49:50.606207Z",
     "start_time": "2023-11-29T22:49:50.593317Z"
    }
   },
   "outputs": [],
   "source": [
    "# загружаем данные по остаткам и внесениям - снятиям\n",
    "df_in_out_train = pd.read_csv(\"test_private.csv\")"
   ]
  },
  {
   "cell_type": "code",
   "execution_count": 4,
   "id": "092bc717",
   "metadata": {
    "ExecuteTime": {
     "end_time": "2023-11-29T22:49:50.621790Z",
     "start_time": "2023-11-29T22:49:50.607241Z"
    }
   },
   "outputs": [],
   "source": [
    "# загружаем данные по ставке фондирования\n",
    "funding_rate = pd.read_csv(\"funding_rate.csv\", sep=';')"
   ]
  },
  {
   "cell_type": "markdown",
   "id": "d4c7f9f2",
   "metadata": {
    "ExecuteTime": {
     "end_time": "2023-11-24T22:44:12.544595Z",
     "start_time": "2023-11-24T22:42:27.100049Z"
    }
   },
   "source": [
    "## Константы"
   ]
  },
  {
   "cell_type": "code",
   "execution_count": 5,
   "id": "e550b705",
   "metadata": {
    "ExecuteTime": {
     "end_time": "2023-11-29T22:49:50.637373Z",
     "start_time": "2023-11-29T22:49:50.622848Z"
    }
   },
   "outputs": [],
   "source": [
    "DAYS_HORIZON = 8 # на сколько дней (не включая последний) делаем график инкассаций\n",
    "# Проверенная корректная работа только при DAYS_HORIZON = 8\n",
    "\n",
    "COLUMNS = list(df_in_out_train.columns)[:9] # названия столбцов таблицы ответа\n",
    "COLUMNS.pop(1) # исключаем 'remains'\n",
    "\n",
    "BASE_DAY = str((pd.to_datetime(COLUMNS[1]) - pd.to_timedelta('1 days')).date()) # нулевой день\n",
    "LAST_DAY = COLUMNS[-1] # последний день\n",
    "\n",
    "INF = 10**100 # очень большое число\n",
    "\n",
    "MIN_REMAINS = 500_001 # минимальный допустимый остаток на конец дня\n",
    "MAX_ENCASHING = 20_000_000 # максимальная допустимая сумма инкассации"
   ]
  },
  {
   "cell_type": "markdown",
   "id": "ffc89ff7",
   "metadata": {},
   "source": [
    "## Функции"
   ]
  },
  {
   "cell_type": "code",
   "execution_count": 6,
   "id": "012058f2",
   "metadata": {
    "ExecuteTime": {
     "end_time": "2023-11-29T22:49:50.653095Z",
     "start_time": "2023-11-29T22:49:50.638373Z"
    }
   },
   "outputs": [],
   "source": [
    "def get_weekday(date:str) -> int:\n",
    "    '''\n",
    "    Возвращает номер дня недели заданной даты\n",
    "    \n",
    "    Параметры\n",
    "    ---------\n",
    "    date : строка вида 'YYYY-MM-DD' с датой\n",
    "    \n",
    "    Возвращает\n",
    "    ----------\n",
    "    int - номер дня недели от 1(пн) до 7(вс)\n",
    "    '''\n",
    "    weekday = pd.to_datetime(date).isoweekday() # достаем день недели от 1(пн) до 7(вс)\n",
    "    return weekday"
   ]
  },
  {
   "cell_type": "code",
   "execution_count": 7,
   "id": "bf44888f",
   "metadata": {
    "ExecuteTime": {
     "end_time": "2023-11-29T22:49:50.669122Z",
     "start_time": "2023-11-29T22:49:50.654221Z"
    },
    "scrolled": true
   },
   "outputs": [],
   "source": [
    "def create_temp(row:pd.DataFrame) -> pd.DataFrame:\n",
    "    '''\n",
    "    Создаёт временную таблицу для банкомата.\n",
    "    \n",
    "    Параметры\n",
    "    ---------\n",
    "    row : pandas.DataFrame, содержащий 1 строку.\n",
    "    Эта строка должна быть из датафрейма исходных\n",
    "    данных `df_in_out_train`\n",
    "    \n",
    "    Возвращает\n",
    "    ----------\n",
    "    pandas.DataFrame, содержащий информацию о\n",
    "    снятиях/внесениях, датах работы конкретного\n",
    "    банкомата\n",
    "    '''\n",
    "    temp = row.T.reset_index() # транспонируем строку, сбрасываем индекс\n",
    "    temp.columns = ['date', 'money_flow'] # первые 2 столбцца - дата и сумма снятий/внесений\n",
    "    temp['atm_id'] = temp.loc[0, 'money_flow'] # столбец с id создаем и заполняем id АТМ\n",
    "    temp['date'][1] = BASE_DAY # меняем `remains` на первую дату \n",
    "    temp = temp.head(DAYS_HORIZON + 1).tail(DAYS_HORIZON) # оствялем только нужные строки\n",
    "    \n",
    "    # рабочие дни\n",
    "    days = list(*(df_atm_info[df_atm_info['atm_id'] == temp['atm_id'][1]]\n",
    "                  ['worktime_split']))\n",
    "    \n",
    "    # получаем день недели базового дня\n",
    "    weekday_slice_index = get_weekday(BASE_DAY) \n",
    "    if DAYS_HORIZON == 8:\n",
    "        # \"двигаем\" график, так, чтобы он совпал с изучаемыми днями\n",
    "        allowed_days = [0] + days[weekday_slice_index:] + days[:weekday_slice_index]\n",
    "    elif DAYS_HORIZON == 11:\n",
    "        allowed_days = [0] + days[weekday_slice_index:] + [days[:weekday_slice_index]] + [0] * 3\n",
    "        \n",
    "    # создаём столбец\n",
    "    temp['allowed_days'] = allowed_days\n",
    "    \n",
    "    return temp"
   ]
  },
  {
   "cell_type": "code",
   "execution_count": 8,
   "id": "67018213",
   "metadata": {
    "ExecuteTime": {
     "end_time": "2023-11-29T22:49:50.685172Z",
     "start_time": "2023-11-29T22:49:50.670503Z"
    },
    "scrolled": false
   },
   "outputs": [],
   "source": [
    "def get_combinations(temp:pd.DataFrame) -> dict:\n",
    "    '''\n",
    "    Даёт для конкретного банкомата\n",
    "    комбинации возможных дней инкассации\n",
    "    \n",
    "    Параметры\n",
    "    ---------\n",
    "    temp : pandas.DataFrame, полученный\n",
    "    функцией `create_temp`\n",
    "    \n",
    "    Возвращает\n",
    "    ----------\n",
    "    dict, содержащий\n",
    "        ключи - количество дней (int),\n",
    "        значения - возможные комбинации дней (tuple)\n",
    "    '''\n",
    "    total_days_encash_dates = {} # тут будут хранится пары 'количество дней':['даты']\n",
    "    allowed_dates = temp[temp['allowed_days'] == 1]['date'] # выбираем только рабочие дни\n",
    "    \n",
    "    # получаем все возможные сочетания, кладём их в словарь\n",
    "    for days_encash in range(allowed_dates.shape[0] + 1):\n",
    "        total_days_encash_dates[days_encash] = list(\n",
    "            combinations(list(allowed_dates), days_encash))\n",
    "        \n",
    "    return total_days_encash_dates"
   ]
  },
  {
   "cell_type": "code",
   "execution_count": 9,
   "id": "33ec4da7",
   "metadata": {
    "ExecuteTime": {
     "end_time": "2023-11-29T22:49:50.700014Z",
     "start_time": "2023-11-29T22:49:50.688606Z"
    }
   },
   "outputs": [],
   "source": [
    "def get_encashing_amount(days_combination:list, temp:pd.DataFrame) -> pd.DataFrame:\n",
    "    '''\n",
    "    Исходя из дней и временной таблицы\n",
    "    пополняет временную таблицу двумя столбцами:\n",
    "    баланс наличности на конец дня в банкомате\n",
    "    и объем инкассации в этот день\n",
    "    \n",
    "    Параметры\n",
    "    ---------\n",
    "    days_combination : list, комбинация дней инкассации\n",
    "    \n",
    "    temp : pandas.DataFrame, полученный\n",
    "    функцией `create_temp`\n",
    "    \n",
    "    Возвращает\n",
    "    ----------\n",
    "    pandas.DataFrame, содержащий, помимо всех столбцов\n",
    "    temp, столбцы \n",
    "        `encashing_amount` - объем инкассации\n",
    "        в определённый день\n",
    "        `balance` - остаток наличности на конец дня\n",
    "    '''\n",
    "    # замена None пустым списком (вариант отсутствия инкассации)\n",
    "    if days_combination is None:\n",
    "        days_combination = []\n",
    "    \n",
    "    # дни инкассации (без дубликатов)\n",
    "    days_encash = sorted(list(set([BASE_DAY] + days_combination + [LAST_DAY])))\n",
    "    \n",
    "    # столбец с логическими значениями - \"возможна ли инкассация в этот день\"\n",
    "    temp['encashing'] = temp['date'].apply(lambda x: x in days_combination)\n",
    "\n",
    "    # снятия и внесения\n",
    "    flow = list(temp['money_flow'])  \n",
    "    \n",
    "    # почти пустой баланс (= остаток), известен только на 1 день \n",
    "    balance = [flow[0]]  \n",
    "    \n",
    "    # дни когда можно инкассировать\n",
    "    encashing = list(temp['encashing'])  \n",
    "    \n",
    "    # в этом списке будет находиться объем инкассации  \n",
    "    encashing_amount = [0] * DAYS_HORIZON \n",
    "    \n",
    "    # заполняем баланс с учётом трат\n",
    "    for j in range(1, len(flow)):\n",
    "        balance.append(balance[j - 1] + flow[j])\n",
    "\n",
    "    # выбор текущего дня инкассации и следующего\n",
    "    for i in range(len(encashing)):\n",
    "        if encashing[i]:\n",
    "            cur_day = i  # текущий день\n",
    "            next_day = None  # день, до которого остаток должен быть >= 500k\n",
    "            \n",
    "            # определяем текущий день инкассации и следующий\n",
    "            for j in range(i + 1, len(encashing)):\n",
    "                if encashing[j]:\n",
    "                    next_day = j\n",
    "                    break\n",
    "            if next_day is None:\n",
    "                next_day = DAYS_HORIZON # если следущего нет - принимаем его за последний\n",
    "\n",
    "            # определяем минимальную сумму снятий и внесений на\n",
    "            # отрезке от текущего дня до следущего\n",
    "            # только для тех случаев, когда эта сумма < MIN_REMAINS\n",
    "            minimum = MIN_REMAINS-1\n",
    "            flow_sum = 0\n",
    "            for money in flow[cur_day:next_day]: # итерируемся от текущего до следующего\n",
    "                flow_sum += money # сумма внесений\n",
    "                if flow_sum < minimum: # если меньше чем минимум (на первом шаге MIN_REMAINS-1)\n",
    "                    minimum = flow_sum # обновляем минимум\n",
    "\n",
    "            cur_amount = MIN_REMAINS - minimum  # деньги которые необходимо внести\n",
    "            if cur_amount > 0: # проверка, чтобы не внести отрицательную сумму\n",
    "                encashing_amount[i] = cur_amount # заполняем список\n",
    "\n",
    "    # считаем баланс (остатки)\n",
    "    for i in range(1, len(balance)):\n",
    "        if encashing_amount[i] > 0:\n",
    "            balance[i] = encashing_amount[i] + flow[i]\n",
    "        else:\n",
    "            balance[i] = balance[i - 1] + flow[i]\n",
    "            \n",
    "    # добавляем их в таблицу столбцами\n",
    "    temp['encashing_amount'] = encashing_amount\n",
    "    temp['balance'] = balance\n",
    "    \n",
    "    return temp"
   ]
  },
  {
   "cell_type": "code",
   "execution_count": 10,
   "id": "36910efd",
   "metadata": {
    "ExecuteTime": {
     "end_time": "2023-11-29T22:49:50.716054Z",
     "start_time": "2023-11-29T22:49:50.701044Z"
    }
   },
   "outputs": [],
   "source": [
    "def checker(changed_temp) -> bool:\n",
    "    '''\n",
    "    Проверяет, проходит ли таблица\n",
    "    по заданным ограничениям\n",
    "    \n",
    "    Параметры\n",
    "    ---------\n",
    "    changed_temp : pandas.DataFrame,\n",
    "    полученный функцией `get_encashing_amount`\n",
    "    \n",
    "    Возвращает\n",
    "    ----------\n",
    "    bool - логическое значение, а именно:\n",
    "        True - если не нарушает ограничения\n",
    "        False - если нарушает\n",
    "    '''\n",
    "    # убираем первую строку (с нулевым днём)\n",
    "    changed_temp = changed_temp[1:]\n",
    "    \n",
    "    # два обязательных условия \n",
    "    cond1 = changed_temp['balance'].min() > MIN_REMAINS-1\n",
    "    cond2 = changed_temp['encashing_amount'].max() < MAX_ENCASHING\n",
    "    return (cond1 and cond2)"
   ]
  },
  {
   "cell_type": "code",
   "execution_count": 11,
   "id": "ba71ccab",
   "metadata": {
    "ExecuteTime": {
     "end_time": "2023-11-29T22:49:50.731759Z",
     "start_time": "2023-11-29T22:49:50.717485Z"
    }
   },
   "outputs": [],
   "source": [
    "def get_costs(changed_temp:pd.DataFrame) -> float:\n",
    "    '''\n",
    "    Для предложенного варианта инкассации\n",
    "    вычисляет все траты, а именно:\n",
    "    сумма денег потраченных на инкассацию за неделю\n",
    "    плюс сумма денег которые \"сжигает\" инфляция\n",
    "    \n",
    "    Параметры\n",
    "    ---------\n",
    "    changed_temp : pandas.DataFrame,\n",
    "    полученный функцией `get_encashing_amount`\n",
    "    \n",
    "    Возвращает\n",
    "    ----------\n",
    "    float - траты\n",
    "    '''\n",
    "    costs = 0\n",
    "    atm_id = changed_temp['atm_id'][1] # запоминаем id банкомата\n",
    "    \n",
    "    # находим стоимость инкассации этого банкомата\n",
    "    encashing_cost = df_atm_info[df_atm_info['atm_id'] ==\n",
    "                           atm_id]['incasationcost'].values[0] \n",
    "    # и прибавляем их к костам\n",
    "    costs += (changed_temp['encashing_amount'] > 0).sum() * encashing_cost\n",
    "    \n",
    "    # джоин таблицы с ставкой рефинансирования по дате\n",
    "    changed_temp_funding = changed_temp.merge(funding_rate,\n",
    "                                              left_on='date',\n",
    "                                              right_on='value_day')\n",
    "    # находим траты связанные с инфляцией\n",
    "    inflation = (changed_temp_funding['balance'] * changed_temp_funding['funding_rate']/365).sum()\n",
    "    # и прибавляем их к костам\n",
    "    costs += inflation\n",
    "    return costs"
   ]
  },
  {
   "cell_type": "code",
   "execution_count": 12,
   "id": "74451b0d",
   "metadata": {
    "ExecuteTime": {
     "end_time": "2023-11-29T22:49:50.748041Z",
     "start_time": "2023-11-29T22:49:50.732818Z"
    },
    "code_folding": []
   },
   "outputs": [],
   "source": [
    "def get_best_days(temp:pd.DataFrame) -> list:\n",
    "    '''\n",
    "    Для временной таблицы, не содержащей\n",
    "    столбцов баланса и объема инкассации,\n",
    "    перебирает все возможные комбинации дней.\n",
    "    \n",
    "    Выбирает лучшую комбинацию исходя из\n",
    "    минимизации трат\n",
    "    \n",
    "    Параметры\n",
    "    ---------\n",
    "    temp : pandas.DataFrame,\n",
    "    полученный функцией `create_temp`\n",
    "    \n",
    "    Возвращает\n",
    "    ----------\n",
    "    list - список дней инкассации\n",
    "    '''\n",
    "    # получаем комбинации\n",
    "    combs = get_combinations(temp)\n",
    "    # до цикла обозначим минимальные косты очень большим числом\n",
    "    min_cost = INF\n",
    "    # если вдруг условие ни разу не выполнится, вернем None\n",
    "    days_comb = None\n",
    "\n",
    "    # итерируемся по ключам и значениям словаря\n",
    "    for total_days, dates in combs.items():\n",
    "        for date in dates: # значение - список кортежей с датами, итерируемся по ним\n",
    "            days_combination = list(date) \n",
    "            # получаем измененную временную таблицу\n",
    "            changed_temp = get_encashing_amount(days_combination, temp)\n",
    "\n",
    "            if checker(changed_temp): # если выполняются ограничения\n",
    "                # запоминаем косты\n",
    "                costs = get_costs(changed_temp)\n",
    "\n",
    "                if costs < min_cost: # если они оказались меньше минимальных найденных\n",
    "                    min_cost = costs # меняем минмиум\n",
    "                    days_comb = days_combination # и запоминаем даты\n",
    "    return days_comb"
   ]
  },
  {
   "cell_type": "code",
   "execution_count": 13,
   "id": "53311a58",
   "metadata": {
    "ExecuteTime": {
     "end_time": "2023-11-29T22:49:50.763123Z",
     "start_time": "2023-11-29T22:49:50.749086Z"
    },
    "code_folding": []
   },
   "outputs": [],
   "source": [
    "def get_answer(changed_temp:pd.DataFrame) -> pd.DataFrame:\n",
    "    '''\n",
    "    Формирует строку ответа\n",
    "    \n",
    "    Параметры\n",
    "    ---------\n",
    "    changed_temp : pandas.DataFrame,\n",
    "    полученный функцией `get_encashing_amount`\n",
    "    \n",
    "    Возвращает\n",
    "    ----------\n",
    "    pandas.DataFrame - строка в формате ответа\n",
    "    '''\n",
    "    # преобразуем таблицу в нужный вид\n",
    "    # а именно - берем столбец с суммой инкассации\n",
    "    # и транспонируем его\n",
    "    ans = changed_temp[['date',\n",
    "               'encashing_amount']].head(DAYS_HORIZON).T.reset_index().drop(1, axis=1)\n",
    "    # меняем значение в первой ячейке на id банкомата\n",
    "    ans['index'] = changed_temp['atm_id'][1]\n",
    "    # переименовывем столбцы\n",
    "    ans.columns = COLUMNS\n",
    "    # сохраняем только нужную нам строку\n",
    "    answer = ans.tail(1)\n",
    "    return answer"
   ]
  },
  {
   "cell_type": "code",
   "execution_count": 14,
   "id": "88c111f5",
   "metadata": {
    "ExecuteTime": {
     "end_time": "2023-11-29T22:49:50.778726Z",
     "start_time": "2023-11-29T22:49:50.764474Z"
    }
   },
   "outputs": [],
   "source": [
    "def sub_main(row:pd.DataFrame) -> pd.DataFrame:\n",
    "    '''\n",
    "    Принимает строку, возвращает\n",
    "    строку-ответ\n",
    "    \n",
    "    Параметры\n",
    "    ---------\n",
    "    row : pandas.DataFrame, содержащий 1 строку.\n",
    "    Эта строка должна быть из датафрейма исходных\n",
    "    данных `df_in_out_train`\n",
    "    \n",
    "    Возвращает\n",
    "    ----------\n",
    "    pandas.DataFrame - строка в формате ответа\n",
    "    '''\n",
    "    temp = create_temp(row) # создаем временную таблицу\n",
    "    best_days = get_best_days(temp) # получаем лучшие дни\n",
    "    return get_answer(get_encashing_amount(best_days, temp)) # возвращаем строку ответа"
   ]
  },
  {
   "cell_type": "code",
   "execution_count": 15,
   "id": "bee272ab",
   "metadata": {
    "ExecuteTime": {
     "end_time": "2023-11-29T22:49:50.793965Z",
     "start_time": "2023-11-29T22:49:50.780231Z"
    }
   },
   "outputs": [],
   "source": [
    "def main(generator=df_in_out_train.index):\n",
    "    '''\n",
    "    Для всех банкоматов формирует строки\n",
    "    ответов и соединяет их в таблицу\n",
    "    \n",
    "    Параметры\n",
    "    ---------\n",
    "    generator : генератор значений\n",
    "    по умолчанию - индексы датафрейма исходных\n",
    "    данных\n",
    "    \n",
    "    Возвращает\n",
    "    ----------\n",
    "    pandas.DataFrame - таблица в формате ответа\n",
    "    '''\n",
    "    # создаем пустой датафрейм\n",
    "    final_answer = pd.DataFrame(columns=COLUMNS)\n",
    "    for row_number in generator: \n",
    "        final_answer = pd.concat([\n",
    "            final_answer,\n",
    "            sub_main(pd.DataFrame(df_in_out_train.iloc[row_number]).T)\n",
    "        ]) # добавляем на каждом шаге строку ответа\n",
    "    return final_answer"
   ]
  },
  {
   "cell_type": "markdown",
   "id": "fefd15bc",
   "metadata": {},
   "source": [
    "## Решение"
   ]
  },
  {
   "cell_type": "code",
   "execution_count": 16,
   "id": "d9dc7da3",
   "metadata": {
    "ExecuteTime": {
     "end_time": "2023-11-29T22:49:51.030568Z",
     "start_time": "2023-11-29T22:49:50.795000Z"
    }
   },
   "outputs": [
    {
     "data": {
      "text/html": [
       "<div>\n",
       "<style scoped>\n",
       "    .dataframe tbody tr th:only-of-type {\n",
       "        vertical-align: middle;\n",
       "    }\n",
       "\n",
       "    .dataframe tbody tr th {\n",
       "        vertical-align: top;\n",
       "    }\n",
       "\n",
       "    .dataframe thead th {\n",
       "        text-align: right;\n",
       "    }\n",
       "</style>\n",
       "<table border=\"1\" class=\"dataframe\">\n",
       "  <thead>\n",
       "    <tr style=\"text-align: right;\">\n",
       "      <th></th>\n",
       "      <th>atm_id</th>\n",
       "      <th>2023-09-01</th>\n",
       "      <th>2023-09-02</th>\n",
       "      <th>2023-09-03</th>\n",
       "      <th>2023-09-04</th>\n",
       "      <th>2023-09-05</th>\n",
       "      <th>2023-09-06</th>\n",
       "      <th>2023-09-07</th>\n",
       "    </tr>\n",
       "  </thead>\n",
       "  <tbody>\n",
       "    <tr>\n",
       "      <th>1</th>\n",
       "      <td>32a0a3467bc2255eea631b4411d0db92</td>\n",
       "      <td>0.0</td>\n",
       "      <td>0.0</td>\n",
       "      <td>0.0</td>\n",
       "      <td>5071601.0</td>\n",
       "      <td>0.0</td>\n",
       "      <td>7713001.0</td>\n",
       "      <td>0.0</td>\n",
       "    </tr>\n",
       "  </tbody>\n",
       "</table>\n",
       "</div>"
      ],
      "text/plain": [
       "                             atm_id 2023-09-01 2023-09-02 2023-09-03  \\\n",
       "1  32a0a3467bc2255eea631b4411d0db92        0.0        0.0        0.0   \n",
       "\n",
       "  2023-09-04 2023-09-05 2023-09-06 2023-09-07  \n",
       "1  5071601.0        0.0  7713001.0        0.0  "
      ]
     },
     "execution_count": 16,
     "metadata": {},
     "output_type": "execute_result"
    }
   ],
   "source": [
    "answer_sample = main(generator=range(1))\n",
    "answer_sample # семпл ответа"
   ]
  },
  {
   "cell_type": "code",
   "execution_count": 17,
   "id": "e829fcdb",
   "metadata": {
    "ExecuteTime": {
     "end_time": "2023-11-29T22:49:51.047075Z",
     "start_time": "2023-11-29T22:49:51.032642Z"
    }
   },
   "outputs": [],
   "source": [
    "# answer = main()\n",
    "# answer.to_csv('solution.csv', index=None) # полный ответ"
   ]
  }
 ],
 "metadata": {
  "kernelspec": {
   "display_name": "Python 3 (ipykernel)",
   "language": "python",
   "name": "python3"
  },
  "language_info": {
   "codemirror_mode": {
    "name": "ipython",
    "version": 3
   },
   "file_extension": ".py",
   "mimetype": "text/x-python",
   "name": "python",
   "nbconvert_exporter": "python",
   "pygments_lexer": "ipython3",
   "version": "3.9.13"
  },
  "toc": {
   "base_numbering": 1,
   "nav_menu": {
    "height": "211px",
    "width": "324px"
   },
   "number_sections": true,
   "sideBar": true,
   "skip_h1_title": true,
   "title_cell": "Table of Contents",
   "title_sidebar": "Contents",
   "toc_cell": false,
   "toc_position": {},
   "toc_section_display": true,
   "toc_window_display": false
  },
  "varInspector": {
   "cols": {
    "lenName": 16,
    "lenType": 16,
    "lenVar": 40
   },
   "kernels_config": {
    "python": {
     "delete_cmd_postfix": "",
     "delete_cmd_prefix": "del ",
     "library": "var_list.py",
     "varRefreshCmd": "print(var_dic_list())"
    },
    "r": {
     "delete_cmd_postfix": ") ",
     "delete_cmd_prefix": "rm(",
     "library": "var_list.r",
     "varRefreshCmd": "cat(var_dic_list()) "
    }
   },
   "types_to_exclude": [
    "module",
    "function",
    "builtin_function_or_method",
    "instance",
    "_Feature"
   ],
   "window_display": false
  }
 },
 "nbformat": 4,
 "nbformat_minor": 5
}
